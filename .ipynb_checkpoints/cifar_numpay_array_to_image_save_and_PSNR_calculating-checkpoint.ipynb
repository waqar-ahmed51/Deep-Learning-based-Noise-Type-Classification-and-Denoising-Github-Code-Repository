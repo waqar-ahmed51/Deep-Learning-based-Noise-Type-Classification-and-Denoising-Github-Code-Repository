{
 "cells": [
  {
   "cell_type": "code",
   "execution_count": 16,
   "metadata": {},
   "outputs": [],
   "source": [
    "#Link for reference: https://codahead.com/blog/a-denoising-autoencoder-for-cifar-datasets\n",
    "# Gaussian Noise removal Autoencoder based model\n",
    "import numpy as np\n",
    "import matplotlib.pyplot as plt\n",
    "from tensorflow.keras.layers import Conv2D, Input, Dense, Reshape, Conv2DTranspose,\\\n",
    "   Activation, BatchNormalization, ReLU, Concatenate\n",
    "from tensorflow.keras.models import Model\n",
    "from tensorflow.keras.callbacks import ModelCheckpoint\n",
    "from tensorflow.keras.datasets import cifar100, cifar10\n",
    "import tensorflow as tf"
   ]
  },
  {
   "cell_type": "code",
   "execution_count": 40,
   "metadata": {},
   "outputs": [
    {
     "data": {
      "image/png": "[encoded data removed]",
      "text/plain": [
       "<Figure size 432x288 with 2 Axes>"
      ]
     },
     "metadata": {
      "needs_background": "light"
     },
     "output_type": "display_data"
    }
   ],
   "source": [
    "# Loading the dataset CIFAR-10 for testing DAEs\n",
    "(train_data_clean_gaussian_cifar10, _), (test_data_clean_gaussian_cifar10, _) = cifar10.load_data()\n",
    "train_data_clean_gaussian_cifar10 = train_data_clean_gaussian_cifar10.astype('float32') / 255.\n",
    "test_data_clean_gaussian_cifar10 = test_data_clean_gaussian_cifar10.astype('float32') / 255.\n",
    "\n",
    "\n",
    "#Adding Noise to CIFAR-10 images\n",
    "def add_gaussian_cifar10_noise_and_clip_data(data):\n",
    "   noise = np.random.normal(loc=0.0, scale=0.1, size=data.shape)\n",
    "   data = data + noise\n",
    "   data = np.clip(data, 0., 1.)\n",
    "   return data\n",
    "train_data_noisy_gaussian_cifar10 = add_gaussian_cifar10_noise_and_clip_data(train_data_clean_gaussian_cifar10)\n",
    "test_data_noisy_gaussian_cifar10 = add_gaussian_cifar10_noise_and_clip_data(test_data_clean_gaussian_cifar10)\n",
    "idx = 15\n",
    "plt.subplot(1,2,1)\n",
    "plt.imshow(train_data_clean_gaussian_cifar10[idx])\n",
    "plt.title('Original Image')\n",
    "plt.subplot(1,2,2)\n",
    "plt.imshow(train_data_noisy_gaussian_cifar10[idx])\n",
    "plt.title('Image with Noise')\n",
    "plt.show()"
   ]
  },
  {
   "cell_type": "code",
   "execution_count": 45,
   "metadata": {},
   "outputs": [],
   "source": [
    "img_arr=train_data_noisy_gaussian_cifar10[idx]*255\n",
    "img_arr=img_arr.astype(np.uint8)\n",
    "from PIL import Image\n",
    "import numpy as np\n",
    "img = Image.fromarray(img_arr)\n",
    "#img.show() # Image will be shown in a seperate window - close it when running code again.\n",
    "img.save(\"compressed_image.png\")"
   ]
  },
  {
   "cell_type": "code",
   "execution_count": 51,
   "metadata": {},
   "outputs": [
    {
     "name": "stdout",
     "output_type": "stream",
     "text": [
      "PSNR value is 28.383477464058053 dB\n"
     ]
    }
   ],
   "source": [
    "# Calculating PSNR of the Image\n",
    "from math import log10, sqrt\n",
    "import cv2\n",
    "import numpy as np\n",
    "\n",
    "def PSNR(original, compressed):\n",
    "    mse = np.mean((original - compressed) ** 2)\n",
    "    if(mse == 0): # MSE is zero means no noise is present in the signal .\n",
    "                # Therefore PSNR have no importance.\n",
    "        return 100\n",
    "    max_pixel = 255.0\n",
    "    psnr = 20 * log10(max_pixel / sqrt(mse))\n",
    "    return psnr\n",
    "\n",
    "def main():\n",
    "    original = cv2.imread(\"original_image.png\")\n",
    "    compressed = cv2.imread(\"compressed_image.png\", 1)\n",
    "    value = PSNR(original, compressed)\n",
    "    print(f\"PSNR value is {value} dB\")\n",
    "    \n",
    "if __name__ == \"__main__\":\n",
    "    main()"
   ]
  },
  {
   "cell_type": "code",
   "execution_count": 50,
   "metadata": {},
   "outputs": [
    {
     "name": "stdout",
     "output_type": "stream",
     "text": [
      "PSNR value is 28.383477464058053 dB\n"
     ]
    }
   ],
   "source": [
    "# Calculating PSNR of the Image - An improved function\n",
    "from math import log10, sqrt\n",
    "import cv2\n",
    "import numpy as np\n",
    "\n",
    "def PSNR_DENOISED_IMG(original, denoised):\n",
    "    original = cv2.imread(original)\n",
    "    denoised = cv2.imread(denoised, 1)\n",
    "    mse = np.mean((original - denoised) ** 2)\n",
    "    if(mse == 0): # MSE is zero means no noise is present in the signal .\n",
    "                # Therefore PSNR have no importance.\n",
    "        return 100\n",
    "    max_pixel = 255.0\n",
    "    psnr = 20 * log10(max_pixel / sqrt(mse))\n",
    "    print(f\"PSNR value is {psnr} dB\")\n",
    "    \n",
    "# Invoke the function by passing the names of original and denoised images as parameters\n",
    "PSNR_DENOISED_IMG(\"original_image.png\",\"compressed_image.png\")    "
   ]
  },
  {
   "cell_type": "code",
   "execution_count": null,
   "metadata": {},
   "outputs": [],
   "source": []
  }
 ],
 "metadata": {
  "kernelspec": {
   "display_name": "Python 3",
   "language": "python",
   "name": "python3"
  },
  "language_info": {
   "codemirror_mode": {
    "name": "ipython",
    "version": 3
   },
   "file_extension": ".py",
   "mimetype": "text/x-python",
   "name": "python",
   "nbconvert_exporter": "python",
   "pygments_lexer": "ipython3",
   "version": "3.7.5"
  }
 },
 "nbformat": 4,
 "nbformat_minor": 4
}
