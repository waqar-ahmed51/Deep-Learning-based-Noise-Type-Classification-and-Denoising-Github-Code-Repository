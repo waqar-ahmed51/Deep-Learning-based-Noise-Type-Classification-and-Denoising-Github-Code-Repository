{
 "cells": [
  {
   "cell_type": "markdown",
   "metadata": {},
   "source": [
    "# Training a Generalized Denoising Autoencoder"
   ]
  },
  {
   "cell_type": "code",
   "execution_count": 1,
   "metadata": {},
   "outputs": [
    {
     "name": "stderr",
     "output_type": "stream",
     "text": [
      "c:\\users\\waqar\\appdata\\local\\programs\\python\\python37\\lib\\site-packages\\tensorflow\\python\\framework\\dtypes.py:516: FutureWarning: Passing (type, 1) or '1type' as a synonym of type is deprecated; in a future version of numpy, it will be understood as (type, (1,)) / '(1,)type'.\n",
      "  _np_qint8 = np.dtype([(\"qint8\", np.int8, 1)])\n",
      "c:\\users\\waqar\\appdata\\local\\programs\\python\\python37\\lib\\site-packages\\tensorflow\\python\\framework\\dtypes.py:517: FutureWarning: Passing (type, 1) or '1type' as a synonym of type is deprecated; in a future version of numpy, it will be understood as (type, (1,)) / '(1,)type'.\n",
      "  _np_quint8 = np.dtype([(\"quint8\", np.uint8, 1)])\n",
      "c:\\users\\waqar\\appdata\\local\\programs\\python\\python37\\lib\\site-packages\\tensorflow\\python\\framework\\dtypes.py:518: FutureWarning: Passing (type, 1) or '1type' as a synonym of type is deprecated; in a future version of numpy, it will be understood as (type, (1,)) / '(1,)type'.\n",
      "  _np_qint16 = np.dtype([(\"qint16\", np.int16, 1)])\n",
      "c:\\users\\waqar\\appdata\\local\\programs\\python\\python37\\lib\\site-packages\\tensorflow\\python\\framework\\dtypes.py:519: FutureWarning: Passing (type, 1) or '1type' as a synonym of type is deprecated; in a future version of numpy, it will be understood as (type, (1,)) / '(1,)type'.\n",
      "  _np_quint16 = np.dtype([(\"quint16\", np.uint16, 1)])\n",
      "c:\\users\\waqar\\appdata\\local\\programs\\python\\python37\\lib\\site-packages\\tensorflow\\python\\framework\\dtypes.py:520: FutureWarning: Passing (type, 1) or '1type' as a synonym of type is deprecated; in a future version of numpy, it will be understood as (type, (1,)) / '(1,)type'.\n",
      "  _np_qint32 = np.dtype([(\"qint32\", np.int32, 1)])\n",
      "c:\\users\\waqar\\appdata\\local\\programs\\python\\python37\\lib\\site-packages\\tensorflow\\python\\framework\\dtypes.py:525: FutureWarning: Passing (type, 1) or '1type' as a synonym of type is deprecated; in a future version of numpy, it will be understood as (type, (1,)) / '(1,)type'.\n",
      "  np_resource = np.dtype([(\"resource\", np.ubyte, 1)])\n",
      "c:\\users\\waqar\\appdata\\local\\programs\\python\\python37\\lib\\site-packages\\tensorboard\\compat\\tensorflow_stub\\dtypes.py:541: FutureWarning: Passing (type, 1) or '1type' as a synonym of type is deprecated; in a future version of numpy, it will be understood as (type, (1,)) / '(1,)type'.\n",
      "  _np_qint8 = np.dtype([(\"qint8\", np.int8, 1)])\n",
      "c:\\users\\waqar\\appdata\\local\\programs\\python\\python37\\lib\\site-packages\\tensorboard\\compat\\tensorflow_stub\\dtypes.py:542: FutureWarning: Passing (type, 1) or '1type' as a synonym of type is deprecated; in a future version of numpy, it will be understood as (type, (1,)) / '(1,)type'.\n",
      "  _np_quint8 = np.dtype([(\"quint8\", np.uint8, 1)])\n",
      "c:\\users\\waqar\\appdata\\local\\programs\\python\\python37\\lib\\site-packages\\tensorboard\\compat\\tensorflow_stub\\dtypes.py:543: FutureWarning: Passing (type, 1) or '1type' as a synonym of type is deprecated; in a future version of numpy, it will be understood as (type, (1,)) / '(1,)type'.\n",
      "  _np_qint16 = np.dtype([(\"qint16\", np.int16, 1)])\n",
      "c:\\users\\waqar\\appdata\\local\\programs\\python\\python37\\lib\\site-packages\\tensorboard\\compat\\tensorflow_stub\\dtypes.py:544: FutureWarning: Passing (type, 1) or '1type' as a synonym of type is deprecated; in a future version of numpy, it will be understood as (type, (1,)) / '(1,)type'.\n",
      "  _np_quint16 = np.dtype([(\"quint16\", np.uint16, 1)])\n",
      "c:\\users\\waqar\\appdata\\local\\programs\\python\\python37\\lib\\site-packages\\tensorboard\\compat\\tensorflow_stub\\dtypes.py:545: FutureWarning: Passing (type, 1) or '1type' as a synonym of type is deprecated; in a future version of numpy, it will be understood as (type, (1,)) / '(1,)type'.\n",
      "  _np_qint32 = np.dtype([(\"qint32\", np.int32, 1)])\n",
      "c:\\users\\waqar\\appdata\\local\\programs\\python\\python37\\lib\\site-packages\\tensorboard\\compat\\tensorflow_stub\\dtypes.py:550: FutureWarning: Passing (type, 1) or '1type' as a synonym of type is deprecated; in a future version of numpy, it will be understood as (type, (1,)) / '(1,)type'.\n",
      "  np_resource = np.dtype([(\"resource\", np.ubyte, 1)])\n"
     ]
    }
   ],
   "source": [
    "#Link for reference: https://codahead.com/blog/a-denoising-autoencoder-for-cifar-datasets\n",
    "# Gaussian Noise removal Autoencoder based model\n",
    "import numpy as np\n",
    "import matplotlib.pyplot as plt\n",
    "from tensorflow.keras.layers import Conv2D, Input, Dense, Reshape, Conv2DTranspose,\\\n",
    "   Activation, BatchNormalization, ReLU, Concatenate\n",
    "from tensorflow.keras.models import Model\n",
    "from tensorflow.keras.callbacks import ModelCheckpoint\n",
    "from tensorflow.keras.datasets import cifar100, cifar10\n",
    "import tensorflow as tf"
   ]
  },
  {
   "cell_type": "code",
   "execution_count": 30,
   "metadata": {},
   "outputs": [],
   "source": [
    "# Loading the dataset\n",
    "(train_data_clean_gaussian, _), (test_data_clean_gaussian, _) = cifar100.load_data(label_mode='fine')\n",
    "train_data_clean_gaussian = train_data_clean_gaussian.astype('float32') / 255.\n",
    "test_data_clean_gaussian = test_data_clean_gaussian.astype('float32') / 255.\n",
    "\n",
    "\n",
    "#Adding Gaussian Noise to images\n",
    "def add_gaussian_noise_and_clip_data(data):\n",
    "   noise = np.random.normal(loc=0.0, scale=0.1, size=data.shape)\n",
    "   data = data + noise\n",
    "   data = np.clip(data, 0., 1.)\n",
    "   return data\n",
    "train_data_noisy_gaussian = add_gaussian_noise_and_clip_data(train_data_clean_gaussian)\n",
    "test_data_noisy_gaussian = add_gaussian_noise_and_clip_data(test_data_clean_gaussian)"
   ]
  },
  {
   "cell_type": "code",
   "execution_count": 31,
   "metadata": {},
   "outputs": [],
   "source": [
    "# Loading the dataset\n",
    "(train_data_clean_poisson, _), (test_data_clean_poisson, _) = cifar100.load_data(label_mode='fine')\n",
    "train_data_clean_poisson = train_data_clean_poisson.astype('float32') / 255.\n",
    "test_data_clean_poisson = test_data_clean_poisson.astype('float32') / 255.\n",
    "\n",
    "#Adding poission noise in data\n",
    "noise_factor = 0.10\n",
    "\n",
    "from skimage.util import random_noise\n",
    "\n",
    "#Poisson Noise added to image dataset\n",
    "train_data_noisy_poisson = random_noise(train_data_clean_poisson, mode=\"poisson\", seed=42, clip=False)\n",
    "test_data_noisy_poisson = random_noise(test_data_clean_poisson, mode=\"poisson\", seed=42, clip=False)\n"
   ]
  },
  {
   "cell_type": "code",
   "execution_count": 32,
   "metadata": {},
   "outputs": [],
   "source": [
    "# Loading the dataset\n",
    "(train_data_clean_salt_pepper, _), (test_data_clean_salt_pepper, _) = cifar100.load_data(label_mode='fine')\n",
    "train_data_clean_salt_pepper = train_data_clean_salt_pepper.astype('float32') / 255.\n",
    "test_data_clean_salt_pepper = test_data_clean_salt_pepper.astype('float32') / 255.\n",
    "\n",
    "#adding noise in data\n",
    "noise_factor = 0.10\n",
    "\n",
    "from skimage.util import random_noise\n",
    "\n",
    "#noisy = random_noise(img, mode=\"poisson\")\n",
    "#just change the mode pf the noise to-->'gaussain',\n",
    "#Salt and Pepper Noise added to image dataset\n",
    "train_data_noisy_salt_pepper = random_noise(train_data_clean_salt_pepper, mode=\"s&p\",clip=True, amount=noise_factor)\n",
    "test_data_noisy_salt_pepper = random_noise(test_data_clean_salt_pepper, mode=\"s&p\",clip=True, amount=noise_factor)\n"
   ]
  },
  {
   "cell_type": "code",
   "execution_count": 33,
   "metadata": {},
   "outputs": [],
   "source": [
    "# Loading the dataset\n",
    "(train_data_clean_speckle, _), (test_data_clean_speckle, _) = cifar100.load_data(label_mode='fine')\n",
    "train_data_clean_speckle = train_data_clean_speckle.astype('float32') / 255.\n",
    "test_data_clean_speckle = test_data_clean_speckle.astype('float32') / 255.\n",
    "\n",
    "#adding noise in data\n",
    "noise_factor = 0.10\n",
    "\n",
    "from skimage.util import random_noise\n",
    "\n",
    "#noisy = random_noise(img, mode=\"poisson\")\n",
    "#just change the mode pf the noise to-->'gaussain',\n",
    "#Speckle Noise added to image dataset\n",
    "train_data_noisy_speckle = random_noise(train_data_clean_speckle, mode=\"speckle\", seed=42, clip=False)\n",
    "test_data_noisy_speckle = random_noise(test_data_clean_speckle, mode=\"speckle\", seed=42, clip=False)"
   ]
  },
  {
   "cell_type": "code",
   "execution_count": 57,
   "metadata": {},
   "outputs": [],
   "source": [
    "#Putting all images nupay array to single array for general DAEs.\n",
    "train_data_noisy=np.concatenate((train_data_noisy_gaussian, train_data_noisy_poisson, train_data_noisy_salt_pepper, train_data_noisy_speckle))\n",
    "test_data_noisy=np.concatenate((test_data_noisy_gaussian, test_data_noisy_poisson, test_data_noisy_salt_pepper, test_data_noisy_speckle))"
   ]
  },
  {
   "cell_type": "code",
   "execution_count": 70,
   "metadata": {},
   "outputs": [],
   "source": [
    "#Putting all images nupay array to single array for general DAEs.\n",
    "train_data_clean=np.concatenate((train_data_clean_gaussian, train_data_clean_poisson, train_data_clean_salt_pepper, train_data_clean_speckle))\n",
    "test_data_clean=np.concatenate((test_data_clean_gaussian, test_data_clean_poisson, test_data_clean_salt_pepper, test_data_clean_speckle))"
   ]
  },
  {
   "cell_type": "code",
   "execution_count": 71,
   "metadata": {},
   "outputs": [
    {
     "data": {
      "text/plain": [
       "(200000, 32, 32, 3)"
      ]
     },
     "execution_count": 71,
     "metadata": {},
     "output_type": "execute_result"
    }
   ],
   "source": [
    "#Testing total elements in image numpy array here\n",
    "train_data_clean.shape"
   ]
  },
  {
   "cell_type": "code",
   "execution_count": 78,
   "metadata": {},
   "outputs": [],
   "source": [
    "def conv_block(x, filters, kernel_size, strides=2):\n",
    "   x = Conv2D(filters=filters,\n",
    "              kernel_size=kernel_size,\n",
    "              strides=strides,\n",
    "              padding='same')(x)\n",
    "   x = BatchNormalization()(x)\n",
    "   x = ReLU()(x)\n",
    "   return x\n",
    "\n",
    "def deconv_block(x, filters, kernel_size):\n",
    "   x = Conv2DTranspose(filters=filters,\n",
    "                       kernel_size=kernel_size,\n",
    "                       strides=2,\n",
    "                       padding='same')(x)\n",
    "   x = BatchNormalization()(x)\n",
    "   x = ReLU()(x)\n",
    "   return x"
   ]
  },
  {
   "cell_type": "code",
   "execution_count": 79,
   "metadata": {},
   "outputs": [],
   "source": [
    "def denoising_autoencoder_gerneralized():\n",
    "   dae_inputs = Input(shape=(32, 32, 3), name='dae_input')\n",
    "   conv_block1 = conv_block(dae_inputs, 32, 3)\n",
    "   conv_block2 = conv_block(conv_block1, 64, 3)\n",
    "   conv_block3 = conv_block(conv_block2, 128, 3)\n",
    "   conv_block4 = conv_block(conv_block3, 256, 3)\n",
    "   conv_block5 = conv_block(conv_block4, 256, 3, 1)\n",
    "\n",
    "   deconv_block1 = deconv_block(conv_block5, 256, 3)\n",
    "   merge1 = Concatenate()([deconv_block1, conv_block3])\n",
    "   deconv_block2 = deconv_block(merge1, 128, 3)\n",
    "   merge2 = Concatenate()([deconv_block2, conv_block2])\n",
    "   deconv_block3 = deconv_block(merge2, 64, 3)\n",
    "   merge3 = Concatenate()([deconv_block3, conv_block1])\n",
    "   deconv_block4 = deconv_block(merge3, 32, 3)\n",
    "\n",
    "   final_deconv = Conv2DTranspose(filters=3,\n",
    "                       kernel_size=3,\n",
    "                       padding='same')(deconv_block4)\n",
    "\n",
    "   dae_outputs = Activation('sigmoid', name='dae_output')(final_deconv)\n",
    "  \n",
    "   return Model(dae_inputs, dae_outputs, name='dae')"
   ]
  },
  {
   "cell_type": "code",
   "execution_count": 81,
   "metadata": {},
   "outputs": [
    {
     "name": "stdout",
     "output_type": "stream",
     "text": [
      "Train on 200000 samples, validate on 40000 samples\n",
      "199936/200000 [============================>.] - ETA: 0s - loss: 0.0032\n",
      "Epoch 00001: val_loss improved from inf to 0.00210, saving model to denoising_generalized_all_noise_model.h5\n",
      "200000/200000 [==============================] - 748s 4ms/sample - loss: 0.0032 - val_loss: 0.0021\n"
     ]
    },
    {
     "data": {
      "text/plain": [
       "<tensorflow.python.keras.callbacks.History at 0x180f88360c8>"
      ]
     },
     "execution_count": 81,
     "metadata": {},
     "output_type": "execute_result"
    }
   ],
   "source": [
    "dae_generalized = denoising_autoencoder_gerneralized()\n",
    "dae_generalized.compile(loss='mse', optimizer='adam')\n",
    "\n",
    "checkpoint = ModelCheckpoint('denoising_generalized_all_noise_model.h5', verbose=1, save_best_only=True, save_weights_only=True)\n",
    "\n",
    "dae_generalized.fit(train_data_noisy,\n",
    "       train_data_clean,\n",
    "       validation_data=(test_data_noisy, test_data_clean),\n",
    "       epochs=40, #40 epochs are recommended<<<---------------------------------- Must 40 ephocs\n",
    "       batch_size=128,\n",
    "       callbacks=[checkpoint])"
   ]
  },
  {
   "cell_type": "code",
   "execution_count": 91,
   "metadata": {},
   "outputs": [
    {
     "data": {
      "image/png": "[encoded data removed]",
      "text/plain": [
       "<Figure size 432x288 with 3 Axes>"
      ]
     },
     "metadata": {
      "needs_background": "light"
     },
     "output_type": "display_data"
    }
   ],
   "source": [
    "# There were total 10000 images for single noise for test. As we concatinated the all the noises so it beacme 40000\n",
    "# 0 to 10000 for gaussian images\n",
    "# 10000 to 20000 for poisson images\n",
    "# 20000 to 30000 for salt and pepper images\n",
    "# 30000 to 40000 for speckle images\n",
    "# put value from these ranges to idx for testing.\n",
    "dae_generalized.load_weights('denoising_generalized_all_noise_model.h5')\n",
    "test_data_denoised = dae_generalized.predict(test_data_noisy)\n",
    "idx = 2005\n",
    "plt.subplot(1,3,1)\n",
    "plt.imshow(test_data_clean[idx])\n",
    "plt.title('original')\n",
    "plt.subplot(1,3,2)\n",
    "plt.imshow(test_data_noisy[idx])\n",
    "plt.title('noisy')\n",
    "plt.subplot(1,3,3)\n",
    "plt.imshow(test_data_denoised[idx])\n",
    "plt.title('denoised')\n",
    "plt.show()"
   ]
  },
  {
   "cell_type": "code",
   "execution_count": null,
   "metadata": {},
   "outputs": [],
   "source": []
  }
 ],
 "metadata": {
  "kernelspec": {
   "display_name": "Python 3",
   "language": "python",
   "name": "python3"
  },
  "language_info": {
   "codemirror_mode": {
    "name": "ipython",
    "version": 3
   },
   "file_extension": ".py",
   "mimetype": "text/x-python",
   "name": "python",
   "nbconvert_exporter": "python",
   "pygments_lexer": "ipython3",
   "version": "3.7.5"
  }
 },
 "nbformat": 4,
 "nbformat_minor": 4
}
